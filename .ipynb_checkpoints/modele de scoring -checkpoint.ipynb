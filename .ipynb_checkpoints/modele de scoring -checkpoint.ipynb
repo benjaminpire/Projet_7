{
 "cells": [
  {
   "cell_type": "code",
   "execution_count": null,
   "id": "1fd4829f",
   "metadata": {},
   "outputs": [],
   "source": [
    "import streamlit as st\n",
    "import numpy as np\n",
    "import pandas as pd \n",
    "import matplotlib.pyplot as plt\n",
    "import seaborn as sns\n",
    "import missingno as msno\n",
    "from datetime import datetime \n",
    "\n",
    "\n",
    "application_test = pd.read_csv(\"input/.csv\")\n",
    "msno.bar(application_test, figsize=(10,2))"
   ]
  },
  {
   "cell_type": "markdown",
   "id": "2b467010",
   "metadata": {},
   "source": [
    "# Gestion des NaN"
   ]
  },
  {
   "cell_type": "code",
   "execution_count": null,
   "id": "042a8f31",
   "metadata": {},
   "outputs": [],
   "source": [
    "path =r'/content/drive/MyDrive/P7_scoring/'\n",
    "df = pd.read_csv(path + 'df_processed_V2.csv')"
   ]
  },
  {
   "cell_type": "markdown",
   "id": "51531a3f",
   "metadata": {
    "id": "pOR44XyYBbFc"
   },
   "source": [
    "# Scaling des données"
   ]
  },
  {
   "cell_type": "code",
   "execution_count": null,
   "id": "dd495d6b",
   "metadata": {},
   "outputs": [],
   "source": []
  },
  {
   "cell_type": "markdown",
   "id": "a89c82e5",
   "metadata": {},
   "source": [
    "Faire un PCA "
   ]
  },
  {
   "cell_type": "code",
   "execution_count": null,
   "id": "124c6e7f",
   "metadata": {},
   "outputs": [],
   "source": [
    "from sklearn.decomposition import PCA\n",
    "pca = PCA(n_components=2).fit(X_light)\n",
    "X_pca = pca.transform(X_light)\n",
    "pca_result = pd.concat([pd.DataFrame(X_pca),y],axis=1)\n",
    "sns.scatterplot(pca_result[0],pca_result[1],hue=pca_result.TARGET)"
   ]
  },
  {
   "cell_type": "code",
   "execution_count": null,
   "id": "f57361c0",
   "metadata": {},
   "outputs": [],
   "source": []
  },
  {
   "cell_type": "markdown",
   "id": "3ecb140d",
   "metadata": {},
   "source": [
    "créer la fonction cout"
   ]
  },
  {
   "cell_type": "code",
   "execution_count": null,
   "id": "6dd41f75",
   "metadata": {},
   "outputs": [],
   "source": []
  },
  {
   "cell_type": "markdown",
   "id": "80fc8b48",
   "metadata": {},
   "source": [
    "Cross-Validation eavec GridsearchCV "
   ]
  },
  {
   "cell_type": "code",
   "execution_count": null,
   "id": "ec9a76a2",
   "metadata": {},
   "outputs": [],
   "source": [
    "from sklearn.ensemble import RandomForestClassifier\n",
    "from sklearn.neighbors import KNeighborsClassifier\n",
    "lr = LogisticRegression()\n",
    "gb = GaussianNB()\n",
    "svc = LinearSVC()\n",
    "dtc = DecisionTreeClassifier()\n",
    "rfc = RandomForestClassifier()\n",
    "Knn = KNeighborsClassifier()"
   ]
  },
  {
   "cell_type": "code",
   "execution_count": null,
   "id": "e63bb806",
   "metadata": {},
   "outputs": [],
   "source": [
    "cross_val_score(lr,X_train,y_train,cv=5,scoring='precision').mean()\n"
   ]
  }
 ],
 "metadata": {
  "kernelspec": {
   "display_name": "Python 3 (ipykernel)",
   "language": "python",
   "name": "python3"
  },
  "language_info": {
   "codemirror_mode": {
    "name": "ipython",
    "version": 3
   },
   "file_extension": ".py",
   "mimetype": "text/x-python",
   "name": "python",
   "nbconvert_exporter": "python",
   "pygments_lexer": "ipython3",
   "version": "3.11.3"
  }
 },
 "nbformat": 4,
 "nbformat_minor": 5
}
