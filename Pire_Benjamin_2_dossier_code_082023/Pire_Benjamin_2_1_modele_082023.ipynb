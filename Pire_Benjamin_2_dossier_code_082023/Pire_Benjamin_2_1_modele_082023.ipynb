{
 "cells": [
  {
   "cell_type": "markdown",
   "id": "a91691a4",
   "metadata": {},
   "source": [
    "# importation + exploration"
   ]
  },
  {
   "cell_type": "markdown",
   "id": "fb2e562f",
   "metadata": {},
   "source": [
    "Dans cette partie nous allons importer toutes les billiotèque utiles a la pour réaliser notre pipeline. "
   ]
  },
  {
   "cell_type": "code",
   "execution_count": 1,
   "id": "e3c5bd4c",
   "metadata": {},
   "outputs": [],
   "source": [
    "import streamlit as st\n",
    "import numpy as np\n",
    "import pandas as pd \n",
    "import matplotlib.pyplot as plt\n",
    "import seaborn as sns\n",
    "import missingno as msno\n",
    "from datetime import datetime  \n",
    "\n",
    "from imblearn.over_sampling import SMOTE\n",
    "from imblearn.pipeline import Pipeline\n",
    "\n",
    "from sklearn.metrics import make_scorer\n",
    "from sklearn.preprocessing import OneHotEncoder, StandardScaler, LabelEncoder\n",
    "from sklearn.decomposition import PCA\n",
    "from sklearn.pipeline import make_pipeline\n",
    "from sklearn.compose import ColumnTransformer\n",
    "from sklearn.cluster import MiniBatchKMeans\n",
    "from sklearn.svm import LinearSVC, SVC\n",
    "from sklearn.datasets import make_classification\n",
    "from sklearn.model_selection import GridSearchCV, train_test_split\n",
    "from sklearn.linear_model import SGDClassifier, LogisticRegression\n",
    "from sklearn.metrics import confusion_matrix\n",
    "from sklearn.tree import DecisionTreeClassifier\n",
    "from sklearn.metrics import accuracy_score\n",
    "\n",
    "from lightgbm import LGBMClassifier\n",
    "\n",
    "import mlflow.sklearn\n",
    "import mlflow\n",
    "import torch\n",
    "import flask \n",
    "import pickle\n",
    "from varname import nameof\n",
    "\n",
    "import xgboost\n",
    "import shap\n",
    "from tqdm import tqdm\n",
    "\n",
    "\n",
    "from mlflow.models.signature import infer_signature\n",
    "\n",
    "cleaned_data = pd.read_csv(\"../cleaned_data.csv\")\n"
   ]
  },
  {
   "cell_type": "markdown",
   "id": "dbf1dd06",
   "metadata": {},
   "source": [
    "Dans cette premiere partie nous allos tous simplement épurer le jeux de donnée. "
   ]
  },
  {
   "cell_type": "markdown",
   "id": "f5d0d081",
   "metadata": {},
   "source": [
    "On supprime ici les données qui contionnent trop de NAN "
   ]
  },
  {
   "cell_type": "code",
   "execution_count": 2,
   "id": "5ffaa370",
   "metadata": {
    "scrolled": true
   },
   "outputs": [],
   "source": [
    "ratio_of_na = (cleaned_data.isna().sum())/cleaned_data[\"SK_ID_CURR\"].count()\n",
    "rest_nan_column = pd.Series(cleaned_data.columns[np.where((ratio_of_na<0.4)&(ratio_of_na>0))])\n",
    "print(cleaned_data.isna().sum(axis=0).describe())\n"
   ]
  },
  {
   "cell_type": "markdown",
   "id": "4e8510f9",
   "metadata": {},
   "source": [
    "Ici on va venir découper notre jeu de données en 2 partie :\n",
    "- les targets (y)\n",
    "- les variables (x)"
   ]
  },
  {
   "cell_type": "code",
   "execution_count": 55,
   "id": "4ef0a2c1",
   "metadata": {},
   "outputs": [
    {
     "ename": "TypeError",
     "evalue": "selector must be dict or a function accepting a graph object returning a boolean.",
     "output_type": "error",
     "traceback": [
      "\u001b[1;31m---------------------------------------------------------------------------\u001b[0m",
      "\u001b[1;31mTypeError\u001b[0m                                 Traceback (most recent call last)",
      "Cell \u001b[1;32mIn[55], line 21\u001b[0m\n\u001b[0;32m     18\u001b[0m fig \u001b[38;5;241m=\u001b[39m px\u001b[38;5;241m.\u001b[39mstrip(df, x\u001b[38;5;241m=\u001b[39m\u001b[38;5;124m'\u001b[39m\u001b[38;5;124mx\u001b[39m\u001b[38;5;124m'\u001b[39m, y\u001b[38;5;241m=\u001b[39m\u001b[38;5;124m'\u001b[39m\u001b[38;5;124my\u001b[39m\u001b[38;5;124m'\u001b[39m)\n\u001b[0;32m     20\u001b[0m \u001b[38;5;66;03m# Use the update_traces method to modify the color of specific points\u001b[39;00m\n\u001b[1;32m---> 21\u001b[0m \u001b[43mfig\u001b[49m\u001b[38;5;241;43m.\u001b[39;49m\u001b[43mupdate_traces\u001b[49m\u001b[43m(\u001b[49m\u001b[43mmarker\u001b[49m\u001b[38;5;241;43m=\u001b[39;49m\u001b[38;5;28;43mdict\u001b[39;49m\u001b[43m(\u001b[49m\u001b[43mcolor\u001b[49m\u001b[38;5;241;43m=\u001b[39;49m\u001b[38;5;124;43m\"\u001b[39;49m\u001b[38;5;124;43mred\u001b[39;49m\u001b[38;5;124;43m\"\u001b[39;49m\u001b[43m)\u001b[49m\u001b[43m,\u001b[49m\u001b[43m \u001b[49m\u001b[43mselector\u001b[49m\u001b[38;5;241;43m=\u001b[39;49m\u001b[43mindices_to_highlight\u001b[49m\u001b[43m)\u001b[49m\n",
      "File \u001b[1;32m~\\anaconda3\\Lib\\site-packages\\plotly\\graph_objs\\_figure.py:710\u001b[0m, in \u001b[0;36mFigure.update_traces\u001b[1;34m(self, patch, selector, row, col, secondary_y, overwrite, **kwargs)\u001b[0m\n\u001b[0;32m    647\u001b[0m \u001b[38;5;28;01mdef\u001b[39;00m \u001b[38;5;21mupdate_traces\u001b[39m(\n\u001b[0;32m    648\u001b[0m     \u001b[38;5;28mself\u001b[39m,\n\u001b[0;32m    649\u001b[0m     patch\u001b[38;5;241m=\u001b[39m\u001b[38;5;28;01mNone\u001b[39;00m,\n\u001b[1;32m   (...)\u001b[0m\n\u001b[0;32m    655\u001b[0m     \u001b[38;5;241m*\u001b[39m\u001b[38;5;241m*\u001b[39mkwargs,\n\u001b[0;32m    656\u001b[0m ) \u001b[38;5;241m-\u001b[39m\u001b[38;5;241m>\u001b[39m \u001b[38;5;124m\"\u001b[39m\u001b[38;5;124mFigure\u001b[39m\u001b[38;5;124m\"\u001b[39m:\n\u001b[0;32m    657\u001b[0m \u001b[38;5;250m    \u001b[39m\u001b[38;5;124;03m\"\"\"\u001b[39;00m\n\u001b[0;32m    658\u001b[0m \n\u001b[0;32m    659\u001b[0m \u001b[38;5;124;03m    Perform a property update operation on all traces that satisfy the\u001b[39;00m\n\u001b[1;32m   (...)\u001b[0m\n\u001b[0;32m    708\u001b[0m \n\u001b[0;32m    709\u001b[0m \u001b[38;5;124;03m    \"\"\"\u001b[39;00m\n\u001b[1;32m--> 710\u001b[0m     \u001b[38;5;28;01mreturn\u001b[39;00m \u001b[38;5;28;43msuper\u001b[39;49m\u001b[43m(\u001b[49m\u001b[43mFigure\u001b[49m\u001b[43m,\u001b[49m\u001b[43m \u001b[49m\u001b[38;5;28;43mself\u001b[39;49m\u001b[43m)\u001b[49m\u001b[38;5;241;43m.\u001b[39;49m\u001b[43mupdate_traces\u001b[49m\u001b[43m(\u001b[49m\n\u001b[0;32m    711\u001b[0m \u001b[43m        \u001b[49m\u001b[43mpatch\u001b[49m\u001b[43m,\u001b[49m\u001b[43m \u001b[49m\u001b[43mselector\u001b[49m\u001b[43m,\u001b[49m\u001b[43m \u001b[49m\u001b[43mrow\u001b[49m\u001b[43m,\u001b[49m\u001b[43m \u001b[49m\u001b[43mcol\u001b[49m\u001b[43m,\u001b[49m\u001b[43m \u001b[49m\u001b[43msecondary_y\u001b[49m\u001b[43m,\u001b[49m\u001b[43m \u001b[49m\u001b[43moverwrite\u001b[49m\u001b[43m,\u001b[49m\u001b[43m \u001b[49m\u001b[38;5;241;43m*\u001b[39;49m\u001b[38;5;241;43m*\u001b[39;49m\u001b[43mkwargs\u001b[49m\n\u001b[0;32m    712\u001b[0m \u001b[43m    \u001b[49m\u001b[43m)\u001b[49m\n",
      "File \u001b[1;32m~\\anaconda3\\Lib\\site-packages\\plotly\\basedatatypes.py:1371\u001b[0m, in \u001b[0;36mBaseFigure.update_traces\u001b[1;34m(self, patch, selector, row, col, secondary_y, overwrite, **kwargs)\u001b[0m\n\u001b[0;32m   1310\u001b[0m \u001b[38;5;28;01mdef\u001b[39;00m \u001b[38;5;21mupdate_traces\u001b[39m(\n\u001b[0;32m   1311\u001b[0m     \u001b[38;5;28mself\u001b[39m,\n\u001b[0;32m   1312\u001b[0m     patch\u001b[38;5;241m=\u001b[39m\u001b[38;5;28;01mNone\u001b[39;00m,\n\u001b[1;32m   (...)\u001b[0m\n\u001b[0;32m   1318\u001b[0m     \u001b[38;5;241m*\u001b[39m\u001b[38;5;241m*\u001b[39mkwargs,\n\u001b[0;32m   1319\u001b[0m ):\n\u001b[0;32m   1320\u001b[0m \u001b[38;5;250m    \u001b[39m\u001b[38;5;124;03m\"\"\"\u001b[39;00m\n\u001b[0;32m   1321\u001b[0m \u001b[38;5;124;03m    Perform a property update operation on all traces that satisfy the\u001b[39;00m\n\u001b[0;32m   1322\u001b[0m \u001b[38;5;124;03m    specified selection criteria\u001b[39;00m\n\u001b[1;32m   (...)\u001b[0m\n\u001b[0;32m   1369\u001b[0m \u001b[38;5;124;03m        Returns the Figure object that the method was called on\u001b[39;00m\n\u001b[0;32m   1370\u001b[0m \u001b[38;5;124;03m    \"\"\"\u001b[39;00m\n\u001b[1;32m-> 1371\u001b[0m     \u001b[38;5;28;01mfor\u001b[39;00m trace \u001b[38;5;129;01min\u001b[39;00m \u001b[38;5;28mself\u001b[39m\u001b[38;5;241m.\u001b[39mselect_traces(\n\u001b[0;32m   1372\u001b[0m         selector\u001b[38;5;241m=\u001b[39mselector, row\u001b[38;5;241m=\u001b[39mrow, col\u001b[38;5;241m=\u001b[39mcol, secondary_y\u001b[38;5;241m=\u001b[39msecondary_y\n\u001b[0;32m   1373\u001b[0m     ):\n\u001b[0;32m   1374\u001b[0m         trace\u001b[38;5;241m.\u001b[39mupdate(patch, overwrite\u001b[38;5;241m=\u001b[39moverwrite, \u001b[38;5;241m*\u001b[39m\u001b[38;5;241m*\u001b[39mkwargs)\n\u001b[0;32m   1375\u001b[0m     \u001b[38;5;28;01mreturn\u001b[39;00m \u001b[38;5;28mself\u001b[39m\n",
      "File \u001b[1;32m~\\anaconda3\\Lib\\site-packages\\plotly\\basedatatypes.py:385\u001b[0m, in \u001b[0;36m_generator\u001b[1;34m(i)\u001b[0m\n\u001b[0;32m    383\u001b[0m \u001b[38;5;28;01mdef\u001b[39;00m \u001b[38;5;21m_generator\u001b[39m(i):\n\u001b[0;32m    384\u001b[0m \u001b[38;5;250m    \u001b[39m\u001b[38;5;124;03m\"\"\" \"cast\" an iterator to a generator\"\"\"\u001b[39;00m\n\u001b[1;32m--> 385\u001b[0m     \u001b[38;5;28;01mfor\u001b[39;00m x \u001b[38;5;129;01min\u001b[39;00m i:\n\u001b[0;32m    386\u001b[0m         \u001b[38;5;28;01myield\u001b[39;00m x\n",
      "File \u001b[1;32m~\\anaconda3\\Lib\\site-packages\\plotly\\basedatatypes.py:1249\u001b[0m, in \u001b[0;36mBaseFigure._filter_by_selector.<locals>.<lambda>\u001b[1;34m(obj)\u001b[0m\n\u001b[0;32m   1247\u001b[0m \u001b[38;5;66;03m# if selector is not an int, we call it on each trace to test it for selection\u001b[39;00m\n\u001b[0;32m   1248\u001b[0m \u001b[38;5;28;01mif\u001b[39;00m \u001b[38;5;129;01mnot\u001b[39;00m \u001b[38;5;28misinstance\u001b[39m(selector, \u001b[38;5;28mint\u001b[39m):\n\u001b[1;32m-> 1249\u001b[0m     funcs\u001b[38;5;241m.\u001b[39mappend(\u001b[38;5;28;01mlambda\u001b[39;00m obj: \u001b[38;5;28;43mself\u001b[39;49m\u001b[38;5;241;43m.\u001b[39;49m\u001b[43m_selector_matches\u001b[49m\u001b[43m(\u001b[49m\u001b[43mobj\u001b[49m\u001b[43m,\u001b[49m\u001b[43m \u001b[49m\u001b[43mselector\u001b[49m\u001b[43m)\u001b[49m)\n\u001b[0;32m   1251\u001b[0m \u001b[38;5;28;01mdef\u001b[39;00m \u001b[38;5;21m_filt\u001b[39m(last, f):\n\u001b[0;32m   1252\u001b[0m     \u001b[38;5;28;01mreturn\u001b[39;00m \u001b[38;5;28mfilter\u001b[39m(f, last)\n",
      "File \u001b[1;32m~\\anaconda3\\Lib\\site-packages\\plotly\\basedatatypes.py:1228\u001b[0m, in \u001b[0;36mBaseFigure._selector_matches\u001b[1;34m(obj, selector)\u001b[0m\n\u001b[0;32m   1226\u001b[0m     \u001b[38;5;28;01mreturn\u001b[39;00m selector(obj)\n\u001b[0;32m   1227\u001b[0m \u001b[38;5;28;01melse\u001b[39;00m:\n\u001b[1;32m-> 1228\u001b[0m     \u001b[38;5;28;01mraise\u001b[39;00m \u001b[38;5;167;01mTypeError\u001b[39;00m(\n\u001b[0;32m   1229\u001b[0m         \u001b[38;5;124m\"\u001b[39m\u001b[38;5;124mselector must be dict or a function \u001b[39m\u001b[38;5;124m\"\u001b[39m\n\u001b[0;32m   1230\u001b[0m         \u001b[38;5;124m\"\u001b[39m\u001b[38;5;124maccepting a graph object returning a boolean.\u001b[39m\u001b[38;5;124m\"\u001b[39m\n\u001b[0;32m   1231\u001b[0m     )\n",
      "\u001b[1;31mTypeError\u001b[0m: selector must be dict or a function accepting a graph object returning a boolean."
     ]
    }
   ],
   "source": [
    "import plotly.express as px\n",
    "import pandas as pd\n",
    "\n",
    "# Sample DataFrame\n",
    "data = {'x': [1, 2, 3, 4, 5],\n",
    "        'y': [2, 4, 1, 3, 5],\n",
    "        'value_column': [10, 20, 30, 40, 50]}\n",
    "\n",
    "df = pd.DataFrame(data)\n",
    "\n",
    "# Define the value that should trigger a color change\n",
    "value_to_highlight = 30\n",
    "\n",
    "# Create a boolean mask based on the value_column\n",
    "mask = df['value_column'] == value_to_highlight\n",
    "indices_to_highlight = mask[mask].index.tolist()\n",
    "# Create the strip plot\n",
    "fig = px.strip(df, x='x', y='y')\n",
    "\n",
    "# Use the update_traces method to modify the color of specific points\n",
    "fig.update_traces(marker=dict(color=\"red\"), selector=indices_to_highlight)"
   ]
  },
  {
   "cell_type": "code",
   "execution_count": 53,
   "id": "be279cab",
   "metadata": {},
   "outputs": [
    {
     "data": {
      "text/plain": [
       "['index',\n",
       " 'SK_ID_CURR',\n",
       " 'TARGET',\n",
       " 'CODE_GENDER',\n",
       " 'FLAG_OWN_CAR',\n",
       " 'FLAG_OWN_REALTY',\n",
       " 'CNT_CHILDREN',\n",
       " 'AMT_INCOME_TOTAL',\n",
       " 'AMT_CREDIT',\n",
       " 'AMT_ANNUITY',\n",
       " 'AMT_GOODS_PRICE',\n",
       " 'REGION_POPULATION_RELATIVE',\n",
       " 'DAYS_BIRTH',\n",
       " 'DAYS_EMPLOYED',\n",
       " 'DAYS_REGISTRATION',\n",
       " 'DAYS_ID_PUBLISH',\n",
       " 'FLAG_MOBIL',\n",
       " 'FLAG_EMP_PHONE',\n",
       " 'FLAG_WORK_PHONE',\n",
       " 'FLAG_CONT_MOBILE',\n",
       " 'FLAG_PHONE',\n",
       " 'FLAG_EMAIL',\n",
       " 'CNT_FAM_MEMBERS',\n",
       " 'REGION_RATING_CLIENT',\n",
       " 'REGION_RATING_CLIENT_W_CITY',\n",
       " 'HOUR_APPR_PROCESS_START',\n",
       " 'REG_REGION_NOT_LIVE_REGION',\n",
       " 'REG_REGION_NOT_WORK_REGION',\n",
       " 'LIVE_REGION_NOT_WORK_REGION',\n",
       " 'REG_CITY_NOT_LIVE_CITY',\n",
       " 'REG_CITY_NOT_WORK_CITY',\n",
       " 'LIVE_CITY_NOT_WORK_CITY',\n",
       " 'EXT_SOURCE_2',\n",
       " 'EXT_SOURCE_3',\n",
       " 'OBS_30_CNT_SOCIAL_CIRCLE',\n",
       " 'DEF_30_CNT_SOCIAL_CIRCLE',\n",
       " 'OBS_60_CNT_SOCIAL_CIRCLE',\n",
       " 'DEF_60_CNT_SOCIAL_CIRCLE',\n",
       " 'DAYS_LAST_PHONE_CHANGE',\n",
       " 'FLAG_DOCUMENT_2',\n",
       " 'FLAG_DOCUMENT_3',\n",
       " 'FLAG_DOCUMENT_4',\n",
       " 'FLAG_DOCUMENT_5',\n",
       " 'FLAG_DOCUMENT_6',\n",
       " 'FLAG_DOCUMENT_7',\n",
       " 'FLAG_DOCUMENT_8',\n",
       " 'FLAG_DOCUMENT_9',\n",
       " 'FLAG_DOCUMENT_10',\n",
       " 'FLAG_DOCUMENT_11',\n",
       " 'FLAG_DOCUMENT_12',\n",
       " 'FLAG_DOCUMENT_13',\n",
       " 'FLAG_DOCUMENT_14',\n",
       " 'FLAG_DOCUMENT_15',\n",
       " 'FLAG_DOCUMENT_16',\n",
       " 'FLAG_DOCUMENT_17',\n",
       " 'FLAG_DOCUMENT_18',\n",
       " 'FLAG_DOCUMENT_19',\n",
       " 'FLAG_DOCUMENT_20',\n",
       " 'FLAG_DOCUMENT_21',\n",
       " 'AMT_REQ_CREDIT_BUREAU_HOUR',\n",
       " 'AMT_REQ_CREDIT_BUREAU_DAY',\n",
       " 'AMT_REQ_CREDIT_BUREAU_WEEK',\n",
       " 'AMT_REQ_CREDIT_BUREAU_MON',\n",
       " 'AMT_REQ_CREDIT_BUREAU_QRT',\n",
       " 'AMT_REQ_CREDIT_BUREAU_YEAR',\n",
       " 'NAME_CONTRACT_TYPE_Cashloans',\n",
       " 'NAME_CONTRACT_TYPE_Revolvingloans',\n",
       " 'NAME_TYPE_SUITE_Children',\n",
       " 'NAME_TYPE_SUITE_Family',\n",
       " 'NAME_TYPE_SUITE_Groupofpeople',\n",
       " 'NAME_TYPE_SUITE_Other_A',\n",
       " 'NAME_TYPE_SUITE_Other_B',\n",
       " 'NAME_TYPE_SUITE_Spousepartner',\n",
       " 'NAME_TYPE_SUITE_Unaccompanied',\n",
       " 'NAME_INCOME_TYPE_Businessman',\n",
       " 'NAME_INCOME_TYPE_Commercialassociate',\n",
       " 'NAME_INCOME_TYPE_Maternityleave',\n",
       " 'NAME_INCOME_TYPE_Pensioner',\n",
       " 'NAME_INCOME_TYPE_Stateservant',\n",
       " 'NAME_INCOME_TYPE_Student',\n",
       " 'NAME_INCOME_TYPE_Unemployed',\n",
       " 'NAME_INCOME_TYPE_Working',\n",
       " 'NAME_EDUCATION_TYPE_Academicdegree',\n",
       " 'NAME_EDUCATION_TYPE_Highereducation',\n",
       " 'NAME_EDUCATION_TYPE_Incompletehigher',\n",
       " 'NAME_EDUCATION_TYPE_Lowersecondary',\n",
       " 'NAME_EDUCATION_TYPE_Secondarysecondaryspecial',\n",
       " 'NAME_FAMILY_STATUS_Civilmarriage',\n",
       " 'NAME_FAMILY_STATUS_Married',\n",
       " 'NAME_FAMILY_STATUS_Separated',\n",
       " 'NAME_FAMILY_STATUS_Singlenotmarried',\n",
       " 'NAME_FAMILY_STATUS_Unknown',\n",
       " 'NAME_FAMILY_STATUS_Widow',\n",
       " 'NAME_HOUSING_TYPE_Coopapartment',\n",
       " 'NAME_HOUSING_TYPE_Houseapartment',\n",
       " 'NAME_HOUSING_TYPE_Municipalapartment',\n",
       " 'NAME_HOUSING_TYPE_Officeapartment',\n",
       " 'NAME_HOUSING_TYPE_Rentedapartment',\n",
       " 'NAME_HOUSING_TYPE_Withparents',\n",
       " 'OCCUPATION_TYPE_Accountants',\n",
       " 'OCCUPATION_TYPE_Cleaningstaff',\n",
       " 'OCCUPATION_TYPE_Cookingstaff',\n",
       " 'OCCUPATION_TYPE_Corestaff',\n",
       " 'OCCUPATION_TYPE_Drivers',\n",
       " 'OCCUPATION_TYPE_HRstaff',\n",
       " 'OCCUPATION_TYPE_Highskilltechstaff',\n",
       " 'OCCUPATION_TYPE_ITstaff',\n",
       " 'OCCUPATION_TYPE_Laborers',\n",
       " 'OCCUPATION_TYPE_LowskillLaborers',\n",
       " 'OCCUPATION_TYPE_Managers',\n",
       " 'OCCUPATION_TYPE_Medicinestaff',\n",
       " 'OCCUPATION_TYPE_Privateservicestaff',\n",
       " 'OCCUPATION_TYPE_Realtyagents',\n",
       " 'OCCUPATION_TYPE_Salesstaff',\n",
       " 'OCCUPATION_TYPE_Secretaries',\n",
       " 'OCCUPATION_TYPE_Securitystaff',\n",
       " 'OCCUPATION_TYPE_Waitersbarmenstaff',\n",
       " 'WEEKDAY_APPR_PROCESS_START_FRIDAY',\n",
       " 'WEEKDAY_APPR_PROCESS_START_MONDAY',\n",
       " 'WEEKDAY_APPR_PROCESS_START_SATURDAY',\n",
       " 'WEEKDAY_APPR_PROCESS_START_SUNDAY',\n",
       " 'WEEKDAY_APPR_PROCESS_START_THURSDAY',\n",
       " 'WEEKDAY_APPR_PROCESS_START_TUESDAY',\n",
       " 'WEEKDAY_APPR_PROCESS_START_WEDNESDAY',\n",
       " 'ORGANIZATION_TYPE_Advertising',\n",
       " 'ORGANIZATION_TYPE_Agriculture',\n",
       " 'ORGANIZATION_TYPE_Bank',\n",
       " 'ORGANIZATION_TYPE_BusinessEntityType1',\n",
       " 'ORGANIZATION_TYPE_BusinessEntityType2',\n",
       " 'ORGANIZATION_TYPE_BusinessEntityType3',\n",
       " 'ORGANIZATION_TYPE_Cleaning',\n",
       " 'ORGANIZATION_TYPE_Construction',\n",
       " 'ORGANIZATION_TYPE_Culture',\n",
       " 'ORGANIZATION_TYPE_Electricity',\n",
       " 'ORGANIZATION_TYPE_Emergency',\n",
       " 'ORGANIZATION_TYPE_Government',\n",
       " 'ORGANIZATION_TYPE_Hotel',\n",
       " 'ORGANIZATION_TYPE_Housing',\n",
       " 'ORGANIZATION_TYPE_Industrytype1',\n",
       " 'ORGANIZATION_TYPE_Industrytype10',\n",
       " 'ORGANIZATION_TYPE_Industrytype11',\n",
       " 'ORGANIZATION_TYPE_Industrytype12',\n",
       " 'ORGANIZATION_TYPE_Industrytype13',\n",
       " 'ORGANIZATION_TYPE_Industrytype2',\n",
       " 'ORGANIZATION_TYPE_Industrytype3',\n",
       " 'ORGANIZATION_TYPE_Industrytype4',\n",
       " 'ORGANIZATION_TYPE_Industrytype5',\n",
       " 'ORGANIZATION_TYPE_Industrytype6',\n",
       " 'ORGANIZATION_TYPE_Industrytype7',\n",
       " 'ORGANIZATION_TYPE_Industrytype8',\n",
       " 'ORGANIZATION_TYPE_Industrytype9',\n",
       " 'ORGANIZATION_TYPE_Insurance',\n",
       " 'ORGANIZATION_TYPE_Kindergarten',\n",
       " 'ORGANIZATION_TYPE_LegalServices',\n",
       " 'ORGANIZATION_TYPE_Medicine',\n",
       " 'ORGANIZATION_TYPE_Military',\n",
       " 'ORGANIZATION_TYPE_Mobile',\n",
       " 'ORGANIZATION_TYPE_Other',\n",
       " 'ORGANIZATION_TYPE_Police',\n",
       " 'ORGANIZATION_TYPE_Postal',\n",
       " 'ORGANIZATION_TYPE_Realtor',\n",
       " 'ORGANIZATION_TYPE_Religion',\n",
       " 'ORGANIZATION_TYPE_Restaurant',\n",
       " 'ORGANIZATION_TYPE_School',\n",
       " 'ORGANIZATION_TYPE_Security',\n",
       " 'ORGANIZATION_TYPE_SecurityMinistries',\n",
       " 'ORGANIZATION_TYPE_Selfemployed',\n",
       " 'ORGANIZATION_TYPE_Services',\n",
       " 'ORGANIZATION_TYPE_Telecom',\n",
       " 'ORGANIZATION_TYPE_Tradetype1',\n",
       " 'ORGANIZATION_TYPE_Tradetype2',\n",
       " 'ORGANIZATION_TYPE_Tradetype3',\n",
       " 'ORGANIZATION_TYPE_Tradetype4',\n",
       " 'ORGANIZATION_TYPE_Tradetype5',\n",
       " 'ORGANIZATION_TYPE_Tradetype6',\n",
       " 'ORGANIZATION_TYPE_Tradetype7',\n",
       " 'ORGANIZATION_TYPE_Transporttype1',\n",
       " 'ORGANIZATION_TYPE_Transporttype2',\n",
       " 'ORGANIZATION_TYPE_Transporttype3',\n",
       " 'ORGANIZATION_TYPE_Transporttype4',\n",
       " 'ORGANIZATION_TYPE_University',\n",
       " 'ORGANIZATION_TYPE_XNA',\n",
       " 'FONDKAPREMONT_MODE_notspecified',\n",
       " 'FONDKAPREMONT_MODE_orgspecaccount',\n",
       " 'FONDKAPREMONT_MODE_regoperaccount',\n",
       " 'FONDKAPREMONT_MODE_regoperspecaccount',\n",
       " 'HOUSETYPE_MODE_blockofflats',\n",
       " 'HOUSETYPE_MODE_specifichousing',\n",
       " 'HOUSETYPE_MODE_terracedhouse',\n",
       " 'WALLSMATERIAL_MODE_Block',\n",
       " 'WALLSMATERIAL_MODE_Mixed',\n",
       " 'WALLSMATERIAL_MODE_Monolithic',\n",
       " 'WALLSMATERIAL_MODE_Others',\n",
       " 'WALLSMATERIAL_MODE_Panel',\n",
       " 'WALLSMATERIAL_MODE_Stonebrick',\n",
       " 'WALLSMATERIAL_MODE_Wooden',\n",
       " 'EMERGENCYSTATE_MODE_No',\n",
       " 'EMERGENCYSTATE_MODE_Yes',\n",
       " 'DAYS_EMPLOYED_PERC',\n",
       " 'INCOME_CREDIT_PERC',\n",
       " 'INCOME_PER_PERSON',\n",
       " 'ANNUITY_INCOME_PERC',\n",
       " 'PAYMENT_RATE',\n",
       " 'BURO_DAYS_CREDIT_MIN',\n",
       " 'BURO_DAYS_CREDIT_MAX',\n",
       " 'BURO_DAYS_CREDIT_MEAN',\n",
       " 'BURO_DAYS_CREDIT_VAR',\n",
       " 'BURO_DAYS_CREDIT_ENDDATE_MIN',\n",
       " 'BURO_DAYS_CREDIT_ENDDATE_MAX',\n",
       " 'BURO_DAYS_CREDIT_ENDDATE_MEAN',\n",
       " 'BURO_DAYS_CREDIT_UPDATE_MEAN',\n",
       " 'BURO_CREDIT_DAY_OVERDUE_MAX',\n",
       " 'BURO_CREDIT_DAY_OVERDUE_MEAN',\n",
       " 'BURO_AMT_CREDIT_SUM_MAX',\n",
       " 'BURO_AMT_CREDIT_SUM_MEAN',\n",
       " 'BURO_AMT_CREDIT_SUM_SUM',\n",
       " 'BURO_AMT_CREDIT_SUM_DEBT_MAX',\n",
       " 'BURO_AMT_CREDIT_SUM_DEBT_MEAN',\n",
       " 'BURO_AMT_CREDIT_SUM_DEBT_SUM',\n",
       " 'BURO_AMT_CREDIT_SUM_OVERDUE_MEAN',\n",
       " 'BURO_AMT_CREDIT_SUM_LIMIT_MEAN',\n",
       " 'BURO_AMT_CREDIT_SUM_LIMIT_SUM',\n",
       " 'BURO_CNT_CREDIT_PROLONG_SUM',\n",
       " 'BURO_MONTHS_BALANCE_SIZE_SUM',\n",
       " 'BURO_CREDIT_ACTIVE_Active_MEAN',\n",
       " 'BURO_CREDIT_ACTIVE_Baddebt_MEAN',\n",
       " 'BURO_CREDIT_ACTIVE_Closed_MEAN',\n",
       " 'BURO_CREDIT_ACTIVE_Sold_MEAN',\n",
       " 'BURO_CREDIT_ACTIVE_nan_MEAN',\n",
       " 'BURO_CREDIT_CURRENCY_currency1_MEAN',\n",
       " 'BURO_CREDIT_CURRENCY_currency2_MEAN',\n",
       " 'BURO_CREDIT_CURRENCY_currency3_MEAN',\n",
       " 'BURO_CREDIT_CURRENCY_currency4_MEAN',\n",
       " 'BURO_CREDIT_CURRENCY_nan_MEAN',\n",
       " 'BURO_CREDIT_TYPE_Anothertypeofloan_MEAN',\n",
       " 'BURO_CREDIT_TYPE_Carloan_MEAN',\n",
       " 'BURO_CREDIT_TYPE_Cashloannonearmarked_MEAN',\n",
       " 'BURO_CREDIT_TYPE_Consumercredit_MEAN',\n",
       " 'BURO_CREDIT_TYPE_Creditcard_MEAN',\n",
       " 'BURO_CREDIT_TYPE_Interbankcredit_MEAN',\n",
       " 'BURO_CREDIT_TYPE_Loanforbusinessdevelopment_MEAN',\n",
       " 'BURO_CREDIT_TYPE_Loanforpurchaseofsharesmarginlending_MEAN',\n",
       " 'BURO_CREDIT_TYPE_Loanforthepurchaseofequipment_MEAN',\n",
       " 'BURO_CREDIT_TYPE_Loanforworkingcapitalreplenishment_MEAN',\n",
       " 'BURO_CREDIT_TYPE_Microloan_MEAN',\n",
       " 'BURO_CREDIT_TYPE_Mobileoperatorloan_MEAN',\n",
       " 'BURO_CREDIT_TYPE_Mortgage_MEAN',\n",
       " 'BURO_CREDIT_TYPE_Realestateloan_MEAN',\n",
       " 'BURO_CREDIT_TYPE_Unknowntypeofloan_MEAN',\n",
       " 'BURO_CREDIT_TYPE_nan_MEAN',\n",
       " 'ACTIVE_DAYS_CREDIT_MIN',\n",
       " 'ACTIVE_DAYS_CREDIT_MAX',\n",
       " 'ACTIVE_DAYS_CREDIT_MEAN',\n",
       " 'ACTIVE_DAYS_CREDIT_ENDDATE_MIN',\n",
       " 'ACTIVE_DAYS_CREDIT_ENDDATE_MAX',\n",
       " 'ACTIVE_DAYS_CREDIT_ENDDATE_MEAN',\n",
       " 'ACTIVE_DAYS_CREDIT_UPDATE_MEAN',\n",
       " 'ACTIVE_CREDIT_DAY_OVERDUE_MAX',\n",
       " 'ACTIVE_CREDIT_DAY_OVERDUE_MEAN',\n",
       " 'ACTIVE_AMT_CREDIT_SUM_MAX',\n",
       " 'ACTIVE_AMT_CREDIT_SUM_MEAN',\n",
       " 'ACTIVE_AMT_CREDIT_SUM_SUM',\n",
       " 'ACTIVE_AMT_CREDIT_SUM_DEBT_MAX',\n",
       " 'ACTIVE_AMT_CREDIT_SUM_DEBT_MEAN',\n",
       " 'ACTIVE_AMT_CREDIT_SUM_DEBT_SUM',\n",
       " 'ACTIVE_AMT_CREDIT_SUM_OVERDUE_MEAN',\n",
       " 'ACTIVE_AMT_CREDIT_SUM_LIMIT_MEAN',\n",
       " 'ACTIVE_AMT_CREDIT_SUM_LIMIT_SUM',\n",
       " 'ACTIVE_CNT_CREDIT_PROLONG_SUM',\n",
       " 'ACTIVE_MONTHS_BALANCE_SIZE_SUM',\n",
       " 'CLOSED_DAYS_CREDIT_MIN',\n",
       " 'CLOSED_DAYS_CREDIT_MAX',\n",
       " 'CLOSED_DAYS_CREDIT_MEAN',\n",
       " 'CLOSED_DAYS_CREDIT_ENDDATE_MIN',\n",
       " 'CLOSED_DAYS_CREDIT_ENDDATE_MAX',\n",
       " 'CLOSED_DAYS_CREDIT_ENDDATE_MEAN',\n",
       " 'CLOSED_DAYS_CREDIT_UPDATE_MEAN',\n",
       " 'CLOSED_CREDIT_DAY_OVERDUE_MAX',\n",
       " 'CLOSED_CREDIT_DAY_OVERDUE_MEAN',\n",
       " 'CLOSED_AMT_CREDIT_SUM_MAX',\n",
       " 'CLOSED_AMT_CREDIT_SUM_MEAN',\n",
       " 'CLOSED_AMT_CREDIT_SUM_SUM',\n",
       " 'CLOSED_AMT_CREDIT_SUM_DEBT_MAX',\n",
       " 'CLOSED_AMT_CREDIT_SUM_DEBT_MEAN',\n",
       " 'CLOSED_AMT_CREDIT_SUM_DEBT_SUM',\n",
       " 'CLOSED_AMT_CREDIT_SUM_OVERDUE_MEAN',\n",
       " 'CLOSED_AMT_CREDIT_SUM_LIMIT_MEAN',\n",
       " 'CLOSED_AMT_CREDIT_SUM_LIMIT_SUM',\n",
       " 'CLOSED_CNT_CREDIT_PROLONG_SUM',\n",
       " 'CLOSED_MONTHS_BALANCE_SIZE_SUM',\n",
       " 'PREV_AMT_ANNUITY_MIN',\n",
       " 'PREV_AMT_ANNUITY_MAX',\n",
       " 'PREV_AMT_ANNUITY_MEAN',\n",
       " 'PREV_AMT_APPLICATION_MIN',\n",
       " 'PREV_AMT_APPLICATION_MAX',\n",
       " 'PREV_AMT_APPLICATION_MEAN',\n",
       " 'PREV_AMT_CREDIT_MIN',\n",
       " 'PREV_AMT_CREDIT_MAX',\n",
       " 'PREV_AMT_CREDIT_MEAN',\n",
       " 'PREV_APP_CREDIT_PERC_MIN',\n",
       " 'PREV_APP_CREDIT_PERC_MAX',\n",
       " 'PREV_APP_CREDIT_PERC_MEAN',\n",
       " 'PREV_APP_CREDIT_PERC_VAR',\n",
       " 'PREV_AMT_DOWN_PAYMENT_MIN',\n",
       " 'PREV_AMT_DOWN_PAYMENT_MAX',\n",
       " 'PREV_AMT_DOWN_PAYMENT_MEAN',\n",
       " 'PREV_AMT_GOODS_PRICE_MIN',\n",
       " 'PREV_AMT_GOODS_PRICE_MAX',\n",
       " 'PREV_AMT_GOODS_PRICE_MEAN',\n",
       " 'PREV_HOUR_APPR_PROCESS_START_MIN',\n",
       " 'PREV_HOUR_APPR_PROCESS_START_MAX',\n",
       " 'PREV_HOUR_APPR_PROCESS_START_MEAN',\n",
       " 'PREV_RATE_DOWN_PAYMENT_MIN',\n",
       " 'PREV_RATE_DOWN_PAYMENT_MAX',\n",
       " 'PREV_RATE_DOWN_PAYMENT_MEAN',\n",
       " 'PREV_DAYS_DECISION_MIN',\n",
       " 'PREV_DAYS_DECISION_MAX',\n",
       " 'PREV_DAYS_DECISION_MEAN',\n",
       " 'PREV_CNT_PAYMENT_MEAN',\n",
       " 'PREV_CNT_PAYMENT_SUM',\n",
       " 'PREV_NAME_CONTRACT_TYPE_Cashloans_MEAN',\n",
       " 'PREV_NAME_CONTRACT_TYPE_Consumerloans_MEAN',\n",
       " 'PREV_NAME_CONTRACT_TYPE_Revolvingloans_MEAN',\n",
       " 'PREV_NAME_CONTRACT_TYPE_XNA_MEAN',\n",
       " 'PREV_NAME_CONTRACT_TYPE_nan_MEAN',\n",
       " 'PREV_WEEKDAY_APPR_PROCESS_START_FRIDAY_MEAN',\n",
       " 'PREV_WEEKDAY_APPR_PROCESS_START_MONDAY_MEAN',\n",
       " 'PREV_WEEKDAY_APPR_PROCESS_START_SATURDAY_MEAN',\n",
       " 'PREV_WEEKDAY_APPR_PROCESS_START_SUNDAY_MEAN',\n",
       " 'PREV_WEEKDAY_APPR_PROCESS_START_THURSDAY_MEAN',\n",
       " 'PREV_WEEKDAY_APPR_PROCESS_START_TUESDAY_MEAN',\n",
       " 'PREV_WEEKDAY_APPR_PROCESS_START_WEDNESDAY_MEAN',\n",
       " 'PREV_WEEKDAY_APPR_PROCESS_START_nan_MEAN',\n",
       " 'PREV_FLAG_LAST_APPL_PER_CONTRACT_N_MEAN',\n",
       " 'PREV_FLAG_LAST_APPL_PER_CONTRACT_Y_MEAN',\n",
       " 'PREV_FLAG_LAST_APPL_PER_CONTRACT_nan_MEAN',\n",
       " 'PREV_NAME_CASH_LOAN_PURPOSE_Buildingahouseoranannex_MEAN',\n",
       " 'PREV_NAME_CASH_LOAN_PURPOSE_Businessdevelopment_MEAN',\n",
       " 'PREV_NAME_CASH_LOAN_PURPOSE_Buyingagarage_MEAN',\n",
       " 'PREV_NAME_CASH_LOAN_PURPOSE_Buyingaholidayhomeland_MEAN',\n",
       " 'PREV_NAME_CASH_LOAN_PURPOSE_Buyingahome_MEAN',\n",
       " 'PREV_NAME_CASH_LOAN_PURPOSE_Buyinganewcar_MEAN',\n",
       " 'PREV_NAME_CASH_LOAN_PURPOSE_Buyingausedcar_MEAN',\n",
       " 'PREV_NAME_CASH_LOAN_PURPOSE_Carrepairs_MEAN',\n",
       " 'PREV_NAME_CASH_LOAN_PURPOSE_Education_MEAN',\n",
       " 'PREV_NAME_CASH_LOAN_PURPOSE_Everydayexpenses_MEAN',\n",
       " 'PREV_NAME_CASH_LOAN_PURPOSE_Furniture_MEAN',\n",
       " 'PREV_NAME_CASH_LOAN_PURPOSE_Gasificationwatersupply_MEAN',\n",
       " 'PREV_NAME_CASH_LOAN_PURPOSE_Hobby_MEAN',\n",
       " 'PREV_NAME_CASH_LOAN_PURPOSE_Journey_MEAN',\n",
       " 'PREV_NAME_CASH_LOAN_PURPOSE_Medicine_MEAN',\n",
       " 'PREV_NAME_CASH_LOAN_PURPOSE_Moneyforathirdperson_MEAN',\n",
       " 'PREV_NAME_CASH_LOAN_PURPOSE_Other_MEAN',\n",
       " 'PREV_NAME_CASH_LOAN_PURPOSE_Paymentsonotherloans_MEAN',\n",
       " 'PREV_NAME_CASH_LOAN_PURPOSE_Purchaseofelectronicequipment_MEAN',\n",
       " 'PREV_NAME_CASH_LOAN_PURPOSE_Refusaltonamethegoal_MEAN',\n",
       " 'PREV_NAME_CASH_LOAN_PURPOSE_Repairs_MEAN',\n",
       " 'PREV_NAME_CASH_LOAN_PURPOSE_Urgentneeds_MEAN',\n",
       " 'PREV_NAME_CASH_LOAN_PURPOSE_Weddinggiftholiday_MEAN',\n",
       " 'PREV_NAME_CASH_LOAN_PURPOSE_XAP_MEAN',\n",
       " 'PREV_NAME_CASH_LOAN_PURPOSE_XNA_MEAN',\n",
       " 'PREV_NAME_CASH_LOAN_PURPOSE_nan_MEAN',\n",
       " 'PREV_NAME_CONTRACT_STATUS_Approved_MEAN',\n",
       " 'PREV_NAME_CONTRACT_STATUS_Canceled_MEAN',\n",
       " 'PREV_NAME_CONTRACT_STATUS_Refused_MEAN',\n",
       " 'PREV_NAME_CONTRACT_STATUS_Unusedoffer_MEAN',\n",
       " 'PREV_NAME_CONTRACT_STATUS_nan_MEAN',\n",
       " 'PREV_NAME_PAYMENT_TYPE_Cashthroughthebank_MEAN',\n",
       " 'PREV_NAME_PAYMENT_TYPE_Cashlessfromtheaccountoftheemployer_MEAN',\n",
       " 'PREV_NAME_PAYMENT_TYPE_Noncashfromyouraccount_MEAN',\n",
       " 'PREV_NAME_PAYMENT_TYPE_XNA_MEAN',\n",
       " 'PREV_NAME_PAYMENT_TYPE_nan_MEAN',\n",
       " 'PREV_CODE_REJECT_REASON_CLIENT_MEAN',\n",
       " 'PREV_CODE_REJECT_REASON_HC_MEAN',\n",
       " 'PREV_CODE_REJECT_REASON_LIMIT_MEAN',\n",
       " 'PREV_CODE_REJECT_REASON_SCO_MEAN',\n",
       " 'PREV_CODE_REJECT_REASON_SCOFR_MEAN',\n",
       " 'PREV_CODE_REJECT_REASON_SYSTEM_MEAN',\n",
       " 'PREV_CODE_REJECT_REASON_VERIF_MEAN',\n",
       " 'PREV_CODE_REJECT_REASON_XAP_MEAN',\n",
       " 'PREV_CODE_REJECT_REASON_XNA_MEAN',\n",
       " 'PREV_CODE_REJECT_REASON_nan_MEAN',\n",
       " 'PREV_NAME_TYPE_SUITE_Children_MEAN',\n",
       " 'PREV_NAME_TYPE_SUITE_Family_MEAN',\n",
       " 'PREV_NAME_TYPE_SUITE_Groupofpeople_MEAN',\n",
       " 'PREV_NAME_TYPE_SUITE_Other_A_MEAN',\n",
       " 'PREV_NAME_TYPE_SUITE_Other_B_MEAN',\n",
       " 'PREV_NAME_TYPE_SUITE_Spousepartner_MEAN',\n",
       " 'PREV_NAME_TYPE_SUITE_Unaccompanied_MEAN',\n",
       " 'PREV_NAME_TYPE_SUITE_nan_MEAN',\n",
       " 'PREV_NAME_CLIENT_TYPE_New_MEAN',\n",
       " 'PREV_NAME_CLIENT_TYPE_Refreshed_MEAN',\n",
       " 'PREV_NAME_CLIENT_TYPE_Repeater_MEAN',\n",
       " 'PREV_NAME_CLIENT_TYPE_XNA_MEAN',\n",
       " 'PREV_NAME_CLIENT_TYPE_nan_MEAN',\n",
       " 'PREV_NAME_GOODS_CATEGORY_AdditionalService_MEAN',\n",
       " 'PREV_NAME_GOODS_CATEGORY_Animals_MEAN',\n",
       " 'PREV_NAME_GOODS_CATEGORY_AudioVideo_MEAN',\n",
       " 'PREV_NAME_GOODS_CATEGORY_AutoAccessories_MEAN',\n",
       " 'PREV_NAME_GOODS_CATEGORY_ClothingandAccessories_MEAN',\n",
       " 'PREV_NAME_GOODS_CATEGORY_Computers_MEAN',\n",
       " 'PREV_NAME_GOODS_CATEGORY_ConstructionMaterials_MEAN',\n",
       " 'PREV_NAME_GOODS_CATEGORY_ConsumerElectronics_MEAN',\n",
       " 'PREV_NAME_GOODS_CATEGORY_DirectSales_MEAN',\n",
       " 'PREV_NAME_GOODS_CATEGORY_Education_MEAN',\n",
       " 'PREV_NAME_GOODS_CATEGORY_Fitness_MEAN',\n",
       " 'PREV_NAME_GOODS_CATEGORY_Furniture_MEAN',\n",
       " 'PREV_NAME_GOODS_CATEGORY_Gardening_MEAN',\n",
       " 'PREV_NAME_GOODS_CATEGORY_Homewares_MEAN',\n",
       " 'PREV_NAME_GOODS_CATEGORY_HouseConstruction_MEAN',\n",
       " 'PREV_NAME_GOODS_CATEGORY_Insurance_MEAN',\n",
       " 'PREV_NAME_GOODS_CATEGORY_Jewelry_MEAN',\n",
       " 'PREV_NAME_GOODS_CATEGORY_MedicalSupplies_MEAN',\n",
       " 'PREV_NAME_GOODS_CATEGORY_Medicine_MEAN',\n",
       " 'PREV_NAME_GOODS_CATEGORY_Mobile_MEAN',\n",
       " 'PREV_NAME_GOODS_CATEGORY_OfficeAppliances_MEAN',\n",
       " 'PREV_NAME_GOODS_CATEGORY_Other_MEAN',\n",
       " 'PREV_NAME_GOODS_CATEGORY_PhotoCinemaEquipment_MEAN',\n",
       " 'PREV_NAME_GOODS_CATEGORY_SportandLeisure_MEAN',\n",
       " 'PREV_NAME_GOODS_CATEGORY_Tourism_MEAN',\n",
       " 'PREV_NAME_GOODS_CATEGORY_Vehicles_MEAN',\n",
       " 'PREV_NAME_GOODS_CATEGORY_Weapon_MEAN',\n",
       " 'PREV_NAME_GOODS_CATEGORY_XNA_MEAN',\n",
       " 'PREV_NAME_GOODS_CATEGORY_nan_MEAN',\n",
       " 'PREV_NAME_PORTFOLIO_Cards_MEAN',\n",
       " 'PREV_NAME_PORTFOLIO_Cars_MEAN',\n",
       " 'PREV_NAME_PORTFOLIO_Cash_MEAN',\n",
       " 'PREV_NAME_PORTFOLIO_POS_MEAN',\n",
       " 'PREV_NAME_PORTFOLIO_XNA_MEAN',\n",
       " 'PREV_NAME_PORTFOLIO_nan_MEAN',\n",
       " 'PREV_NAME_PRODUCT_TYPE_XNA_MEAN',\n",
       " 'PREV_NAME_PRODUCT_TYPE_walkin_MEAN',\n",
       " 'PREV_NAME_PRODUCT_TYPE_xsell_MEAN',\n",
       " 'PREV_NAME_PRODUCT_TYPE_nan_MEAN',\n",
       " 'PREV_CHANNEL_TYPE_APCashloan_MEAN',\n",
       " 'PREV_CHANNEL_TYPE_Cardealer_MEAN',\n",
       " 'PREV_CHANNEL_TYPE_Channelofcorporatesales_MEAN',\n",
       " 'PREV_CHANNEL_TYPE_Contactcenter_MEAN',\n",
       " 'PREV_CHANNEL_TYPE_Countrywide_MEAN',\n",
       " 'PREV_CHANNEL_TYPE_Creditandcashoffices_MEAN',\n",
       " 'PREV_CHANNEL_TYPE_RegionalLocal_MEAN',\n",
       " 'PREV_CHANNEL_TYPE_Stone_MEAN',\n",
       " 'PREV_CHANNEL_TYPE_nan_MEAN',\n",
       " 'PREV_NAME_SELLER_INDUSTRY_Autotechnology_MEAN',\n",
       " 'PREV_NAME_SELLER_INDUSTRY_Clothing_MEAN',\n",
       " 'PREV_NAME_SELLER_INDUSTRY_Connectivity_MEAN',\n",
       " 'PREV_NAME_SELLER_INDUSTRY_Construction_MEAN',\n",
       " 'PREV_NAME_SELLER_INDUSTRY_Consumerelectronics_MEAN',\n",
       " 'PREV_NAME_SELLER_INDUSTRY_Furniture_MEAN',\n",
       " 'PREV_NAME_SELLER_INDUSTRY_Industry_MEAN',\n",
       " 'PREV_NAME_SELLER_INDUSTRY_Jewelry_MEAN',\n",
       " 'PREV_NAME_SELLER_INDUSTRY_MLMpartners_MEAN',\n",
       " 'PREV_NAME_SELLER_INDUSTRY_Tourism_MEAN',\n",
       " 'PREV_NAME_SELLER_INDUSTRY_XNA_MEAN',\n",
       " 'PREV_NAME_SELLER_INDUSTRY_nan_MEAN',\n",
       " 'PREV_NAME_YIELD_GROUP_XNA_MEAN',\n",
       " 'PREV_NAME_YIELD_GROUP_high_MEAN',\n",
       " 'PREV_NAME_YIELD_GROUP_low_action_MEAN',\n",
       " 'PREV_NAME_YIELD_GROUP_low_normal_MEAN',\n",
       " 'PREV_NAME_YIELD_GROUP_middle_MEAN',\n",
       " 'PREV_NAME_YIELD_GROUP_nan_MEAN',\n",
       " 'PREV_PRODUCT_COMBINATION_CardStreet_MEAN',\n",
       " 'PREV_PRODUCT_COMBINATION_CardXSell_MEAN',\n",
       " 'PREV_PRODUCT_COMBINATION_Cash_MEAN',\n",
       " 'PREV_PRODUCT_COMBINATION_CashStreethigh_MEAN',\n",
       " 'PREV_PRODUCT_COMBINATION_CashStreetlow_MEAN',\n",
       " 'PREV_PRODUCT_COMBINATION_CashStreetmiddle_MEAN',\n",
       " 'PREV_PRODUCT_COMBINATION_CashXSellhigh_MEAN',\n",
       " 'PREV_PRODUCT_COMBINATION_CashXSelllow_MEAN',\n",
       " 'PREV_PRODUCT_COMBINATION_CashXSellmiddle_MEAN',\n",
       " 'PREV_PRODUCT_COMBINATION_POShouseholdwithinterest_MEAN',\n",
       " 'PREV_PRODUCT_COMBINATION_POShouseholdwithoutinterest_MEAN',\n",
       " 'PREV_PRODUCT_COMBINATION_POSindustrywithinterest_MEAN',\n",
       " 'PREV_PRODUCT_COMBINATION_POSindustrywithoutinterest_MEAN',\n",
       " 'PREV_PRODUCT_COMBINATION_POSmobilewithinterest_MEAN',\n",
       " 'PREV_PRODUCT_COMBINATION_POSmobilewithoutinterest_MEAN',\n",
       " 'PREV_PRODUCT_COMBINATION_POSotherwithinterest_MEAN',\n",
       " 'PREV_PRODUCT_COMBINATION_POSotherswithoutinterest_MEAN',\n",
       " 'PREV_PRODUCT_COMBINATION_nan_MEAN',\n",
       " 'APPROVED_AMT_ANNUITY_MIN',\n",
       " 'APPROVED_AMT_ANNUITY_MAX',\n",
       " 'APPROVED_AMT_ANNUITY_MEAN',\n",
       " 'APPROVED_AMT_APPLICATION_MIN',\n",
       " 'APPROVED_AMT_APPLICATION_MAX',\n",
       " 'APPROVED_AMT_APPLICATION_MEAN',\n",
       " 'APPROVED_AMT_CREDIT_MIN',\n",
       " 'APPROVED_AMT_CREDIT_MAX',\n",
       " 'APPROVED_AMT_CREDIT_MEAN',\n",
       " 'APPROVED_APP_CREDIT_PERC_MIN',\n",
       " 'APPROVED_APP_CREDIT_PERC_MAX',\n",
       " 'APPROVED_APP_CREDIT_PERC_MEAN',\n",
       " 'APPROVED_APP_CREDIT_PERC_VAR',\n",
       " 'APPROVED_AMT_DOWN_PAYMENT_MIN',\n",
       " 'APPROVED_AMT_DOWN_PAYMENT_MAX',\n",
       " 'APPROVED_AMT_DOWN_PAYMENT_MEAN',\n",
       " 'APPROVED_AMT_GOODS_PRICE_MIN',\n",
       " 'APPROVED_AMT_GOODS_PRICE_MAX',\n",
       " 'APPROVED_AMT_GOODS_PRICE_MEAN',\n",
       " 'APPROVED_HOUR_APPR_PROCESS_START_MIN',\n",
       " 'APPROVED_HOUR_APPR_PROCESS_START_MAX',\n",
       " 'APPROVED_HOUR_APPR_PROCESS_START_MEAN',\n",
       " 'APPROVED_RATE_DOWN_PAYMENT_MIN',\n",
       " 'APPROVED_RATE_DOWN_PAYMENT_MAX',\n",
       " 'APPROVED_RATE_DOWN_PAYMENT_MEAN',\n",
       " 'APPROVED_DAYS_DECISION_MIN',\n",
       " 'APPROVED_DAYS_DECISION_MAX',\n",
       " 'APPROVED_DAYS_DECISION_MEAN',\n",
       " 'APPROVED_CNT_PAYMENT_MEAN',\n",
       " 'APPROVED_CNT_PAYMENT_SUM',\n",
       " 'POS_MONTHS_BALANCE_MAX',\n",
       " 'POS_MONTHS_BALANCE_MEAN',\n",
       " 'POS_MONTHS_BALANCE_SIZE',\n",
       " 'POS_SK_DPD_MAX',\n",
       " 'POS_SK_DPD_MEAN',\n",
       " 'POS_SK_DPD_DEF_MAX',\n",
       " 'POS_SK_DPD_DEF_MEAN',\n",
       " 'POS_NAME_CONTRACT_STATUS_Active_MEAN',\n",
       " 'POS_NAME_CONTRACT_STATUS_Amortizeddebt_MEAN',\n",
       " 'POS_NAME_CONTRACT_STATUS_Approved_MEAN',\n",
       " 'POS_NAME_CONTRACT_STATUS_Canceled_MEAN',\n",
       " 'POS_NAME_CONTRACT_STATUS_Completed_MEAN',\n",
       " 'POS_NAME_CONTRACT_STATUS_Demand_MEAN',\n",
       " 'POS_NAME_CONTRACT_STATUS_Returnedtothestore_MEAN',\n",
       " 'POS_NAME_CONTRACT_STATUS_Signed_MEAN',\n",
       " 'POS_NAME_CONTRACT_STATUS_XNA_MEAN',\n",
       " 'POS_NAME_CONTRACT_STATUS_nan_MEAN',\n",
       " 'POS_COUNT',\n",
       " 'INSTAL_NUM_INSTALMENT_VERSION_NUNIQUE',\n",
       " 'INSTAL_DPD_MAX',\n",
       " 'INSTAL_DPD_MEAN',\n",
       " 'INSTAL_DPD_SUM',\n",
       " 'INSTAL_DBD_MAX',\n",
       " 'INSTAL_DBD_MEAN',\n",
       " 'INSTAL_DBD_SUM',\n",
       " 'INSTAL_PAYMENT_PERC_MAX',\n",
       " 'INSTAL_PAYMENT_PERC_MEAN',\n",
       " 'INSTAL_PAYMENT_PERC_SUM',\n",
       " 'INSTAL_PAYMENT_PERC_VAR',\n",
       " 'INSTAL_PAYMENT_DIFF_MAX',\n",
       " 'INSTAL_PAYMENT_DIFF_MEAN',\n",
       " 'INSTAL_PAYMENT_DIFF_SUM',\n",
       " 'INSTAL_PAYMENT_DIFF_VAR',\n",
       " 'INSTAL_AMT_INSTALMENT_MAX',\n",
       " 'INSTAL_AMT_INSTALMENT_MEAN',\n",
       " 'INSTAL_AMT_INSTALMENT_SUM',\n",
       " 'INSTAL_AMT_PAYMENT_MIN',\n",
       " 'INSTAL_AMT_PAYMENT_MAX',\n",
       " 'INSTAL_AMT_PAYMENT_MEAN',\n",
       " 'INSTAL_AMT_PAYMENT_SUM',\n",
       " 'INSTAL_DAYS_ENTRY_PAYMENT_MAX',\n",
       " 'INSTAL_DAYS_ENTRY_PAYMENT_MEAN',\n",
       " 'INSTAL_DAYS_ENTRY_PAYMENT_SUM',\n",
       " 'INSTAL_COUNT']"
      ]
     },
     "execution_count": 53,
     "metadata": {},
     "output_type": "execute_result"
    }
   ],
   "source": [
    "cleaned_data.columns.tolist()"
   ]
  },
  {
   "cell_type": "code",
   "execution_count": 52,
   "id": "56d8fd78",
   "metadata": {
    "scrolled": true
   },
   "outputs": [
    {
     "data": {
      "text/plain": [
       "['FLAG_OWN_CAR',\n",
       " 'FLAG_OWN_REALTY',\n",
       " 'FLAG_MOBIL',\n",
       " 'FLAG_EMP_PHONE',\n",
       " 'FLAG_WORK_PHONE',\n",
       " 'FLAG_CONT_MOBILE',\n",
       " 'FLAG_PHONE',\n",
       " 'FLAG_EMAIL',\n",
       " 'FLAG_DOCUMENT_2',\n",
       " 'FLAG_DOCUMENT_3',\n",
       " 'FLAG_DOCUMENT_4',\n",
       " 'FLAG_DOCUMENT_5',\n",
       " 'FLAG_DOCUMENT_6',\n",
       " 'FLAG_DOCUMENT_7',\n",
       " 'FLAG_DOCUMENT_8',\n",
       " 'FLAG_DOCUMENT_9',\n",
       " 'FLAG_DOCUMENT_10',\n",
       " 'FLAG_DOCUMENT_11',\n",
       " 'FLAG_DOCUMENT_12',\n",
       " 'FLAG_DOCUMENT_13',\n",
       " 'FLAG_DOCUMENT_14',\n",
       " 'FLAG_DOCUMENT_15',\n",
       " 'FLAG_DOCUMENT_16',\n",
       " 'FLAG_DOCUMENT_17',\n",
       " 'FLAG_DOCUMENT_18',\n",
       " 'FLAG_DOCUMENT_19',\n",
       " 'FLAG_DOCUMENT_20',\n",
       " 'FLAG_DOCUMENT_21',\n",
       " 'PREV_FLAG_LAST_APPL_PER_CONTRACT_N_MEAN',\n",
       " 'PREV_FLAG_LAST_APPL_PER_CONTRACT_Y_MEAN',\n",
       " 'PREV_FLAG_LAST_APPL_PER_CONTRACT_nan_MEAN']"
      ]
     },
     "execution_count": 52,
     "metadata": {},
     "output_type": "execute_result"
    }
   ],
   "source": [
    "cleaned_data.loc[:,[col for col in cleaned_data.columns if 'FLAG' in col]].columns.tolist()\n"
   ]
  },
  {
   "cell_type": "code",
   "execution_count": 33,
   "id": "29655c1d",
   "metadata": {},
   "outputs": [
    {
     "data": {
      "image/png": "[encoded data removed]",
      "text/plain": [
       "<Figure size 640x480 with 1 Axes>"
      ]
     },
     "metadata": {},
     "output_type": "display_data"
    }
   ],
   "source": [
    "fig = sns.boxenplot(cleaned_data, y=\"AMT_CREDIT\")\n"
   ]
  },
  {
   "cell_type": "code",
   "execution_count": 3,
   "id": "37ce0181",
   "metadata": {},
   "outputs": [],
   "source": [
    "y = cleaned_data.loc[:,'TARGET']\n",
    "X = cleaned_data.drop(columns='TARGET')"
   ]
  },
  {
   "cell_type": "markdown",
   "id": "b99c6a4e",
   "metadata": {},
   "source": [
    "Je sépare maintenant mes deux jeux de donnée en train et test."
   ]
  },
  {
   "cell_type": "code",
   "execution_count": 4,
   "id": "92901a1b",
   "metadata": {
    "scrolled": true
   },
   "outputs": [],
   "source": [
    "X_train, X_test, y_train, y_test = train_test_split(X, y, test_size=0.33, random_state=42, stratify=y)\n",
    "X_train_head = X_train[:2000]\n",
    "y_train_head = y_train[:2000]\n"
   ]
  },
  {
   "cell_type": "markdown",
   "id": "f940d735",
   "metadata": {},
   "source": [
    "Je vais les enregistrer pour pouvoir les utiliser plus tard."
   ]
  },
  {
   "cell_type": "code",
   "execution_count": 5,
   "id": "1a2e7f31",
   "metadata": {},
   "outputs": [],
   "source": [
    "X_train_head.to_csv('X_train.csv', index = False)\n",
    "X_test.to_csv('X_test.csv', index = False)\n",
    "y_train_head.to_csv('y_train.csv', index = False)"
   ]
  },
  {
   "cell_type": "markdown",
   "id": "e17fe650",
   "metadata": {},
   "source": [
    "# Pipeline de pré processing"
   ]
  },
  {
   "cell_type": "markdown",
   "id": "493b7d84",
   "metadata": {},
   "source": [
    "Dans cette partie on réalise le pipeline de pré processing\n",
    "\n",
    "Je vais donc commencer par séparer mon jeu de donnée X en 2 grace a des filtres :\n",
    "- les données numériques \n",
    "- les données catégorielles "
   ]
  },
  {
   "cell_type": "code",
   "execution_count": 6,
   "id": "e11d0cbd",
   "metadata": {},
   "outputs": [],
   "source": [
    "#\n",
    "column_values_is_num = (X.dtypes==np.dtype('int64')) | (X.dtypes==np.dtype('float64'))\n",
    "column_values_is_cat = (X.dtypes==np.dtype('O'))\n",
    "\n",
    "# \n",
    "numerical_features_filter = pd.Series(X.columns[np.where(column_values_is_num)])\n",
    "categorical_features_filter = pd.Series(X.columns[np.where(column_values_is_cat)])\n",
    "\n",
    "# affichage du nombre de la quantitées \n",
    "print('column_values_is_num : ' + str(numerical_features_filter.count()))\n",
    "print('column_values_is_cat : ' + str(categorical_features_filter.count()))"
   ]
  },
  {
   "cell_type": "markdown",
   "id": "72ab832c",
   "metadata": {},
   "source": [
    "Puis je vais créer un pipeline pour chaque "
   ]
  },
  {
   "cell_type": "code",
   "execution_count": 7,
   "id": "dbfe37a2",
   "metadata": {},
   "outputs": [],
   "source": [
    "numeric_transformer = Pipeline(steps=[(\"standar_scaler\", StandardScaler())])\n",
    "categorical_transformer = Pipeline(steps=[(\"encoder\",OneHotEncoder(handle_unknown = 'ignore'))])\n"
   ]
  },
  {
   "cell_type": "markdown",
   "id": "95378b2a",
   "metadata": {},
   "source": [
    "Et je vais apliquer de la sorte : \n",
    "\n",
    "- Pour les données numériques, un standar_scaler\n",
    "- Pour les données catégorielles, un encoder"
   ]
  },
  {
   "cell_type": "code",
   "execution_count": 8,
   "id": "83426cf0",
   "metadata": {},
   "outputs": [],
   "source": [
    "features_transformer = ColumnTransformer(\n",
    "    transformers=[\n",
    "        (\"num\", numeric_transformer, numerical_features_filter),\n",
    "        (\"cat\", categorical_transformer, categorical_features_filter)\n",
    "    ],\n",
    "    sparse_threshold=0\n",
    ")"
   ]
  },
  {
   "cell_type": "markdown",
   "id": "54b973b7",
   "metadata": {},
   "source": [
    "SMOTE & Preprocessed "
   ]
  },
  {
   "cell_type": "code",
   "execution_count": 9,
   "id": "5f567a9b",
   "metadata": {},
   "outputs": [],
   "source": [
    "smote = SMOTE(random_state=42)"
   ]
  },
  {
   "cell_type": "markdown",
   "id": "e4c93eab",
   "metadata": {},
   "source": [
    "# création de fonction utiles"
   ]
  },
  {
   "cell_type": "markdown",
   "id": "f6c50766",
   "metadata": {},
   "source": [
    "## fonction print dataframe "
   ]
  },
  {
   "cell_type": "markdown",
   "id": "ff3c9d67",
   "metadata": {},
   "source": [
    "Cette fonction permmet le bel affichage des données "
   ]
  },
  {
   "cell_type": "code",
   "execution_count": 10,
   "id": "56c82e97",
   "metadata": {},
   "outputs": [],
   "source": [
    "def print_dataframe(filtered_cv_results):\n",
    "    \"\"\"Pretty print for filtered dataframe\"\"\"\n",
    "    for mean_precision, params in zip(\n",
    "        filtered_cv_results[\"mean_test_score\"],\n",
    "        filtered_cv_results[\"params\"],\n",
    "    ):\n",
    "        print(\n",
    "            f\"precision: {mean_precision:0.8f}),\"\n",
    "            f\" for {params}\"\n",
    "        )\n",
    "    print()"
   ]
  },
  {
   "cell_type": "markdown",
   "id": "22320503",
   "metadata": {},
   "source": [
    "## fonction refit"
   ]
  },
  {
   "cell_type": "markdown",
   "id": "32051d83",
   "metadata": {},
   "source": [
    "Cette fonction permet de selectionner exclusivement les paramettres corespondant à certains critères (rate of change - Auc = 0.82)"
   ]
  },
  {
   "cell_type": "code",
   "execution_count": 11,
   "id": "d8ecff36",
   "metadata": {},
   "outputs": [],
   "source": [
    "def refit(cv_results): \n",
    "    roc_auc_limit = 0.82\n",
    "    result_roc_auc= cv_results[\"mean_test_score\"]\n",
    "    params= cv_results[\"params\"]    \n",
    "    columns_to_keep = list()\n",
    "    for mean_precision, param_dict in zip(\n",
    "        result_roc_auc,\n",
    "        params):\n",
    "        if mean_precision > roc_auc_limit :\n",
    "            filtered_params = {key: [value] for key, value in param_dict.items()}\n",
    "            columns_to_keep.append(filtered_params)\n",
    "    return(columns_to_keep)\n"
   ]
  },
  {
   "cell_type": "markdown",
   "id": "6d70122f",
   "metadata": {},
   "source": [
    "## fonction Métier"
   ]
  },
  {
   "cell_type": "markdown",
   "id": "817cf3f0",
   "metadata": {},
   "source": [
    "Cette fonction permet le de calculer le score métier"
   ]
  },
  {
   "cell_type": "code",
   "execution_count": 12,
   "id": "e4c6c175",
   "metadata": {},
   "outputs": [],
   "source": [
    "def fonction_metier(y_test, y_pred, **kwargs): \n",
    "    cm = confusion_matrix(y_test, y_pred)\n",
    "    faux_positif = cm[1][0]\n",
    "    faux_negatif = cm[0][1]\n",
    "    result = 1*faux_negatif + 10*faux_positif\n",
    "    return(result)\n"
   ]
  },
  {
   "cell_type": "markdown",
   "id": "480238dd",
   "metadata": {},
   "source": [
    "création du score métier "
   ]
  },
  {
   "cell_type": "code",
   "execution_count": 13,
   "id": "8464d2f7",
   "metadata": {},
   "outputs": [],
   "source": [
    "custom_scorer = make_scorer(fonction_metier, greater_is_better=False)"
   ]
  },
  {
   "cell_type": "markdown",
   "id": "9b0d684d",
   "metadata": {},
   "source": [
    "## fonction find_thresh_prob"
   ]
  },
  {
   "cell_type": "markdown",
   "id": "8e72dfe0",
   "metadata": {},
   "source": [
    "Cette fonction permet de trouver le meilleur seuil de probabilité pour une valeur metier donnée"
   ]
  },
  {
   "cell_type": "code",
   "execution_count": 14,
   "id": "a88ad82a",
   "metadata": {},
   "outputs": [],
   "source": [
    "def find_thresh_prob(model):\n",
    "    \n",
    "    # initialisation\n",
    "    threshold_list = [n/100 for n in range(1, 100)]\n",
    "    list_of_the_bus_val = list()\n",
    "    best_bus_val = 0\n",
    "    best_threshold = 0\n",
    "    best_y_pred_threshold = None\n",
    "    \n",
    "    # Création de la boucle qui calcule chaque seuil:\n",
    "    for i, seuil in enumerate(threshold_list):\n",
    "        \n",
    "        # Prédiction\n",
    "        y_pred_threshold = (model.predict_proba(X_test)[:,1] >= seuil).astype(int)\n",
    "        cm = confusion_matrix(y_test, y_pred_threshold)\n",
    "        bus_val = fonction_metier(y_test, y_pred_threshold)\n",
    "        \n",
    "        # Prend le meilleur seuil. \n",
    "        if (best_bus_val == 0)|(best_bus_val > bus_val): \n",
    "            best_threshold = seuil\n",
    "            best_bus_val = bus_val\n",
    "            best_y_pred_threshold = y_pred_threshold\n",
    "        list_of_the_bus_val.append(bus_val)\n",
    "    bus_result = pd.DataFrame({'threshold_list': threshold_list, 'list_of_the_bus_val': list_of_the_bus_val})\n",
    "    \n",
    "    # retourne plein de choses très utiles\n",
    "    return(bus_result, best_y_pred_threshold, best_threshold, best_bus_val)"
   ]
  },
  {
   "cell_type": "markdown",
   "id": "a5a2b354",
   "metadata": {},
   "source": [
    "## Fonction qui fais la matrice des coocurence"
   ]
  },
  {
   "cell_type": "markdown",
   "id": "86def9d2",
   "metadata": {},
   "source": [
    "Cette fonction permet de faire la matrice de coocurence "
   ]
  },
  {
   "cell_type": "code",
   "execution_count": 15,
   "id": "b111c739",
   "metadata": {},
   "outputs": [],
   "source": [
    "def show_coo_matrix(model, best_threshold):\n",
    "    y_pred_good_threshold = (model.predict_proba(X_test)[:,1] >= best_threshold).astype(int)\n",
    "    cm = pd.DataFrame(confusion_matrix(y_test, y_pred_good_threshold))\n",
    "    ax= plt.subplot()\n",
    "    \n",
    "    #création de la Heatmap\n",
    "    sns.heatmap(cm, annot=True, fmt='g', ax=ax);  \n",
    "    \n",
    "    # labels, title and ticks\n",
    "    ax.set_xlabel('Predicted labels');ax.set_ylabel('True labels'); \n",
    "    ax.set_title('Confusion Matrix'); "
   ]
  },
  {
   "cell_type": "markdown",
   "id": "8da357d0",
   "metadata": {},
   "source": [
    "## Fonction save model"
   ]
  },
  {
   "cell_type": "markdown",
   "id": "934d6c73",
   "metadata": {},
   "source": [
    "Ces deux fonctions me permette respectivement de : \n",
    "- Sauver le pipeline sous forme d'un .pkl \n",
    "- Sauver les paramettre utile au modele en temps voulus"
   ]
  },
  {
   "cell_type": "code",
   "execution_count": 16,
   "id": "7f3510ee",
   "metadata": {},
   "outputs": [],
   "source": [
    "def save_model(model):\n",
    "    # télécharge le modele en fichier\n",
    "    with open('mlflow_model/best_model.pkl', 'wb') as file:\n",
    "        pickle.dump(model, file)\n",
    "    file.close()\n",
    "\n",
    "\n",
    "def logs_params(classif, parameter, roc_auc, accuracy, best_bus_val, best_threshold):        \n",
    "    with mlflow.start_run():\n",
    "        mlflow.log_param(\"parameters\", parameter)\n",
    "        mlflow.log_metric(\"roc_auc\", roc_auc)\n",
    "        mlflow.log_metric(\"accuracy\", accuracy)\n",
    "        mlflow.log_metric(\"best_bus_val\", best_bus_val)\n",
    "        mlflow.log_metric(\"best_threshold\", best_threshold)\n",
    "        mlflow.set_tracking_uri(\"file:///path/to/mlruns\")    \n",
    "        mlflow.end_run()\n",
    "    \n",
    "    print(mlflow.get_artifact_uri()) \n",
    "    print(mlflow.get_tracking_uri())"
   ]
  },
  {
   "cell_type": "markdown",
   "id": "9f426545",
   "metadata": {},
   "source": [
    "## Fonction create and exe pipeline"
   ]
  },
  {
   "cell_type": "markdown",
   "id": "5c224e9d",
   "metadata": {},
   "source": [
    "Cette fonction crée un pipeline ayant cette forme :  \n",
    "\n",
    "![the pipeline form](pics/pipeline.png)\n",
    "\n",
    "Et l'entraine!!"
   ]
  },
  {
   "cell_type": "code",
   "execution_count": 17,
   "id": "0e12ecc7",
   "metadata": {},
   "outputs": [],
   "source": [
    "def create_and_exe_pipeline(classifier, parameters, scoring): \n",
    "    gridsearchcv = GridSearchCV(classifier, parameters, scoring=scoring)\n",
    "    model = Pipeline(steps=[\n",
    "        ('transformer', features_transformer),  \n",
    "        ('smote', smote),  \n",
    "        ('gridsearch', gridsearchcv)])\n",
    "    model.fit(X_train_head, y_train_head)\n",
    "    return(model, gridsearchcv)"
   ]
  },
  {
   "cell_type": "markdown",
   "id": "77b067a5",
   "metadata": {},
   "source": [
    "# Création et entrainement du pipeline"
   ]
  },
  {
   "cell_type": "markdown",
   "id": "35518cd9",
   "metadata": {},
   "source": [
    "## Preprossess"
   ]
  },
  {
   "cell_type": "markdown",
   "id": "8c341a43",
   "metadata": {},
   "source": [
    "commencons par créer: \n",
    "1. la liste contenant les différents classifier"
   ]
  },
  {
   "cell_type": "code",
   "execution_count": 18,
   "id": "c5e341c4",
   "metadata": {},
   "outputs": [],
   "source": [
    "max_iteration = np.ceil(10**6/y_train_head.shape[0]).astype(int)\n",
    "classifier_list = [SGDClassifier(loss=\"log_loss\", penalty=\"l2\", max_iter=max_iteration),\n",
    "                  DecisionTreeClassifier(random_state=0),\n",
    "                  LGBMClassifier()]"
   ]
  },
  {
   "cell_type": "code",
   "execution_count": 19,
   "id": "29b1cd74",
   "metadata": {},
   "outputs": [],
   "source": [
    "str(classifier_list[0])"
   ]
  },
  {
   "cell_type": "markdown",
   "id": "adda7483",
   "metadata": {},
   "source": [
    "2. Puis celle contenant les différents paramètres pour chacun d'eux"
   ]
  },
  {
   "cell_type": "code",
   "execution_count": 20,
   "id": "c61658a4",
   "metadata": {},
   "outputs": [],
   "source": [
    "\n",
    "sgd_parameters = {'alpha':[0.001, 0.01, 0.1],\n",
    "                  'tol' : [0.01, 0.1, 1]}\n",
    "\n",
    "dtc_parameters = {'criterion':[\"gini\", \"entropy\", \"log_loss\"],\n",
    "                  'max_depth': np.arange(3, 15, 2)}\n",
    "\n",
    "lgbm_parameters = {'min_data_in_leaf': [400, 500],\n",
    "                   'n_estimators': [200, 250],\n",
    "                   'lambda_l1': [0, 1, 1.5],\n",
    "                   'lambda_l2': [0, 1],\n",
    "                   'subsample' : [1],\n",
    "                   'max_depth' : [-1, 5, 10]}\n",
    "\n",
    "\n",
    "# la liste contenant tous les paramètres\n",
    "parameter_list = [sgd_parameters,\n",
    "                  dtc_parameters,\n",
    "                  lgbm_parameters]"
   ]
  },
  {
   "cell_type": "markdown",
   "id": "acb7c27e",
   "metadata": {},
   "source": [
    "nous allons enfin executer le modele en trois étapes :\n",
    "1. Création du pipeline avec un gridsearch basé sur le roc auc et entrainement du modele\n",
    "2. Refiting des hyper paramètres avec roc_auc > 0,82\n",
    "3. Création du pipeline avec un gridsearch basé sur le score métier et entrainement du modele\n",
    "4. trouver le meilleur seuil de probabilité"
   ]
  },
  {
   "cell_type": "code",
   "execution_count": 21,
   "id": "c7c767ee",
   "metadata": {
    "scrolled": true
   },
   "outputs": [],
   "source": [
    "best_result_list = list()\n",
    "\n",
    "for (classif,param) in zip(classifier_list, parameter_list):\n",
    "    # Création du pipeline avec un gridsearch basé sur le roc auc  \n",
    "    # et entrainement du modele:\n",
    "    print(\"###################\")\n",
    "    print(classif)\n",
    "    print(\"###################\")\n",
    "    print(\"Parametres\" + str(param))\n",
    "    \n",
    "    model, gscv = create_and_exe_pipeline(classif, param, \"roc_auc\")\n",
    "    print(\"premier pipeline fini\\n\")\n",
    "\n",
    "    # Refiting des hyper paramètre : \n",
    "    bus_param = refit(gscv.cv_results_)\n",
    "    \n",
    "    print(\"refit fini: \\n\")\n",
    "    print(bus_param)\n",
    "    print(\"\\n\")\n",
    "\n",
    "    # Création du pipeline avec un gridsearch basé sur le score métier \n",
    "    # et entrainement du modele:\n",
    "    bus_model, bus_gscv = create_and_exe_pipeline(classif, bus_param, custom_scorer)\n",
    "    \n",
    "    print(\"deuxieme pipeline fini\")\n",
    "    print(\"\\n\")\n",
    "    \n",
    "    # Cherchons maintenant le meilleur seuil: \n",
    "    bus_result, y_pred, best_threshold, best_bus_val = find_thresh_prob(bus_model)\n",
    "    print(\"recherche su meilleur seuil fini\")\n",
    "    print(\"\\n\")\n",
    "    \n",
    "    #on calcule la précision (accuracy): \n",
    "    accuracy = accuracy_score(y_test, y_pred)\n",
    "\n",
    "    # On enregistre les meilleurs parametres\n",
    "    mlflow.end_run()\n",
    "    logs_params(classif,\n",
    "            gscv.best_params_,\n",
    "            gscv.best_score_,\n",
    "            accuracy,\n",
    "            best_bus_val,\n",
    "            best_threshold)\n",
    "    print(\"enregistrement des parametres réalisé\")\n",
    "    print(\"\\n\")\n",
    "    \n",
    "    best_result_list.append([bus_gscv.best_params_,\n",
    "                             best_bus_val,\n",
    "                             bus_model,\n",
    "                             bus_gscv,\n",
    "                             best_threshold,\n",
    "                             accuracy])"
   ]
  },
  {
   "cell_type": "code",
   "execution_count": null,
   "id": "0c292ffe",
   "metadata": {
    "scrolled": false
   },
   "outputs": [],
   "source": [
    "show_coo_matrix(best_result_list[2][2], best_result_list[2][4])"
   ]
  },
  {
   "cell_type": "markdown",
   "id": "c7e73cdc",
   "metadata": {},
   "source": [
    "nous allons maintenant récupérer le meilleur estimateur et faire la signature du modèle"
   ]
  },
  {
   "cell_type": "code",
   "execution_count": null,
   "id": "d37a821d",
   "metadata": {},
   "outputs": [],
   "source": [
    "save_model(best_result_list[2][3].best_estimator_) \n"
   ]
  },
  {
   "cell_type": "code",
   "execution_count": null,
   "id": "5590086b",
   "metadata": {
    "scrolled": true
   },
   "outputs": [],
   "source": [
    "signature = infer_signature(X_train, y_train)"
   ]
  },
  {
   "cell_type": "code",
   "execution_count": null,
   "id": "09b78f9f",
   "metadata": {},
   "outputs": [],
   "source": []
  },
  {
   "cell_type": "code",
   "execution_count": null,
   "id": "5bfb0c5f",
   "metadata": {},
   "outputs": [],
   "source": []
  },
  {
   "cell_type": "markdown",
   "id": "34090970",
   "metadata": {},
   "source": [
    "## Interpretation locale\n"
   ]
  },
  {
   "cell_type": "markdown",
   "id": "c291c942",
   "metadata": {},
   "source": [
    "Faisons maintenant l'interprétation locale du modele "
   ]
  },
  {
   "cell_type": "code",
   "execution_count": null,
   "id": "8fb18f0b",
   "metadata": {},
   "outputs": [],
   "source": [
    "import lime\n",
    "from lime import lime_tabular\n",
    "\n",
    "explainer = lime_tabular.LimeTabularExplainer(\n",
    "    training_data=np.array(X_train),\n",
    "    feature_names=X_train.columns,\n",
    "    class_names=['mauvais client', 'bon client'],\n",
    "    mode='classification'\n",
    ")"
   ]
  },
  {
   "cell_type": "code",
   "execution_count": null,
   "id": "150a5b42",
   "metadata": {},
   "outputs": [],
   "source": [
    "X_test_scaled = numeric_transformer.fit_transform(X_test) # scale data to reflect train time scaling\n",
    "idx = 160905\n",
    "\n",
    "exp = explainer.explain_instance(\n",
    "    data_row=np.array(X_test.loc[X_test[\"SK_ID_CURR\"] == 160905])[0], \n",
    "    predict_fn=best_result_list[2][3].best_estimator_.predict_proba)\n",
    "exp.show_in_notebook(show_table=True)"
   ]
  },
  {
   "cell_type": "code",
   "execution_count": null,
   "id": "c31532ea",
   "metadata": {},
   "outputs": [],
   "source": [
    "exp.as_list()[0]"
   ]
  },
  {
   "cell_type": "markdown",
   "id": "3564f28b",
   "metadata": {},
   "source": [
    "## Interpretation globale"
   ]
  },
  {
   "cell_type": "markdown",
   "id": "037ae77b",
   "metadata": {},
   "source": [
    "réalisation d'un xgboost pour vérifier les parametre les plus "
   ]
  },
  {
   "cell_type": "code",
   "execution_count": null,
   "id": "10ad37e4",
   "metadata": {},
   "outputs": [],
   "source": [
    "explainer = shap.Explainer(best_result_list[2][3].best_estimator_)\n",
    "explainer"
   ]
  },
  {
   "cell_type": "code",
   "execution_count": null,
   "id": "05ea146f",
   "metadata": {},
   "outputs": [],
   "source": [
    "X_test.columns"
   ]
  },
  {
   "cell_type": "code",
   "execution_count": null,
   "id": "81ed0492",
   "metadata": {},
   "outputs": [],
   "source": [
    "shap.summary_plot(explainer.shap_values(X_test), X_test)\n"
   ]
  },
  {
   "cell_type": "markdown",
   "id": "cd5f9c24",
   "metadata": {
    "scrolled": true
   },
   "source": [
    "## Data Drift "
   ]
  },
  {
   "cell_type": "code",
   "execution_count": null,
   "id": "09b7a2db",
   "metadata": {},
   "outputs": [],
   "source": [
    "from evidently.test_suite import TestSuite\n",
    "from evidently.test_preset import DataStabilityTestPreset\n",
    "from evidently.test_preset import DataQualityTestPreset"
   ]
  },
  {
   "cell_type": "code",
   "execution_count": null,
   "id": "eec35030",
   "metadata": {},
   "outputs": [],
   "source": [
    "data_stability= TestSuite(tests=[\n",
    "    DataStabilityTestPreset(),\n",
    "])\n",
    "print(\"premiere partie faite\")\n",
    "data_stability.run(current_data=X_test, reference_data=X_train, column_mapping=None)\n",
    "data_stability "
   ]
  },
  {
   "cell_type": "code",
   "execution_count": null,
   "id": "bfc7df18",
   "metadata": {},
   "outputs": [],
   "source": [
    "data_stability.save_html(\"file.html\")\n"
   ]
  },
  {
   "cell_type": "code",
   "execution_count": null,
   "id": "d538f6ae",
   "metadata": {},
   "outputs": [],
   "source": []
  },
  {
   "cell_type": "code",
   "execution_count": null,
   "id": "78e6aad3",
   "metadata": {},
   "outputs": [],
   "source": [
    "from sklearn import datasets\n",
    "iris_data = datasets.load_iris()\n",
    "iris_frame = iris_data.frame\n",
    "type(iris_frame)"
   ]
  },
  {
   "cell_type": "code",
   "execution_count": null,
   "id": "5e8787dc",
   "metadata": {},
   "outputs": [],
   "source": []
  },
  {
   "cell_type": "code",
   "execution_count": null,
   "id": "d45a66a6",
   "metadata": {},
   "outputs": [],
   "source": []
  }
 ],
 "metadata": {
  "kernelspec": {
   "display_name": "Python 3 (ipykernel)",
   "language": "python",
   "name": "python3"
  },
  "language_info": {
   "codemirror_mode": {
    "name": "ipython",
    "version": 3
   },
   "file_extension": ".py",
   "mimetype": "text/x-python",
   "name": "python",
   "nbconvert_exporter": "python",
   "pygments_lexer": "ipython3",
   "version": "3.11.3"
  }
 },
 "nbformat": 4,
 "nbformat_minor": 5
}
